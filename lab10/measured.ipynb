{
 "cells": [
  {
   "cell_type": "code",
   "execution_count": 13,
   "metadata": {},
   "outputs": [],
   "source": [
    "from cProfile import label\n",
    "import matplotlib.pyplot as plt\n",
    "import csv\n",
    "import numpy as np\n",
    "import pandas as pd\n",
    "from sympy import *\n",
    "import scipy as sp\n",
    "import sys\n",
    "sys.path.append('..')\n",
    "\n",
    "from libka import *"
   ]
  },
  {
   "cell_type": "code",
   "execution_count": 14,
   "metadata": {},
   "outputs": [
    {
     "data": {
      "text/html": [
       "<div>\n",
       "<style scoped>\n",
       "    .dataframe tbody tr th:only-of-type {\n",
       "        vertical-align: middle;\n",
       "    }\n",
       "\n",
       "    .dataframe tbody tr th {\n",
       "        vertical-align: top;\n",
       "    }\n",
       "\n",
       "    .dataframe thead th {\n",
       "        text-align: right;\n",
       "    }\n",
       "</style>\n",
       "<table border=\"1\" class=\"dataframe\">\n",
       "  <thead>\n",
       "    <tr style=\"text-align: right;\">\n",
       "      <th></th>\n",
       "      <th>t</th>\n",
       "      <th>U</th>\n",
       "    </tr>\n",
       "  </thead>\n",
       "  <tbody>\n",
       "    <tr>\n",
       "      <th>0</th>\n",
       "      <td>0</td>\n",
       "      <td>4.044</td>\n",
       "    </tr>\n",
       "    <tr>\n",
       "      <th>1</th>\n",
       "      <td>1</td>\n",
       "      <td>4.038</td>\n",
       "    </tr>\n",
       "    <tr>\n",
       "      <th>2</th>\n",
       "      <td>2</td>\n",
       "      <td>4.035</td>\n",
       "    </tr>\n",
       "    <tr>\n",
       "      <th>3</th>\n",
       "      <td>3</td>\n",
       "      <td>4.032</td>\n",
       "    </tr>\n",
       "    <tr>\n",
       "      <th>4</th>\n",
       "      <td>4</td>\n",
       "      <td>4.029</td>\n",
       "    </tr>\n",
       "    <tr>\n",
       "      <th>...</th>\n",
       "      <td>...</td>\n",
       "      <td>...</td>\n",
       "    </tr>\n",
       "    <tr>\n",
       "      <th>3039</th>\n",
       "      <td>3039</td>\n",
       "      <td>4.200</td>\n",
       "    </tr>\n",
       "    <tr>\n",
       "      <th>3040</th>\n",
       "      <td>3040</td>\n",
       "      <td>4.200</td>\n",
       "    </tr>\n",
       "    <tr>\n",
       "      <th>3041</th>\n",
       "      <td>3041</td>\n",
       "      <td>4.200</td>\n",
       "    </tr>\n",
       "    <tr>\n",
       "      <th>3042</th>\n",
       "      <td>3042</td>\n",
       "      <td>4.200</td>\n",
       "    </tr>\n",
       "    <tr>\n",
       "      <th>3043</th>\n",
       "      <td>3043</td>\n",
       "      <td>4.203</td>\n",
       "    </tr>\n",
       "  </tbody>\n",
       "</table>\n",
       "<p>3044 rows × 2 columns</p>\n",
       "</div>"
      ],
      "text/plain": [
       "         t      U\n",
       "0        0  4.044\n",
       "1        1  4.038\n",
       "2        2  4.035\n",
       "3        3  4.032\n",
       "4        4  4.029\n",
       "...    ...    ...\n",
       "3039  3039  4.200\n",
       "3040  3040  4.200\n",
       "3041  3041  4.200\n",
       "3042  3042  4.200\n",
       "3043  3043  4.203\n",
       "\n",
       "[3044 rows x 2 columns]"
      ]
     },
     "execution_count": 14,
     "metadata": {},
     "output_type": "execute_result"
    }
   ],
   "source": [
    "alles = pd.read_csv(\"in/KM_MT.dat\", sep=\"\\s+\", header = 0, names = [\"t\", \"U\"], skiprows=0, usecols=[0, 1], decimal=\",\")\n",
    "alles[\"U\"] = alles[\"U\"]/1000\n",
    "alles"
   ]
  },
  {
   "cell_type": "code",
   "execution_count": 15,
   "metadata": {},
   "outputs": [
    {
     "data": {
      "image/png": "[encoded data removed]",
      "text/plain": [
       "<Figure size 864x576 with 1 Axes>"
      ]
     },
     "metadata": {
      "needs_background": "light"
     },
     "output_type": "display_data"
    }
   ],
   "source": [
    "fig, ax = plt.subplots(figsize = (12,8))\n",
    "ax.plot(alles[\"t\"], alles[\"U\"], 'o', label=\"dane pomiarowe\")\n",
    "ax.set_xlabel(r\"$t$ [$s$]\")\n",
    "#ax.set_ylabel(r\"$U$ [$\\frac{V}{0}$]\")\n",
    "ax.set_ylabel(r\"$U$ [$V$]\")\n",
    "ax.legend(loc=4)\n",
    "ax.set_title(\"Rozładowanie oraz ładowanie ogniwa\")\n",
    "fig.savefig(\"out/alles.jpg\")\n",
    "\n",
    "plt.show()"
   ]
  },
  {
   "cell_type": "code",
   "execution_count": 16,
   "metadata": {},
   "outputs": [],
   "source": [
    "dch = pd.read_csv(\"in/KM_MT.001\", sep=\"\\s+\", header = 0, names = [\"t\", \"U\"], skiprows=0, usecols=[0, 1], decimal=\",\")\n",
    "dch[\"U\"] = dch[\"U\"]/1000"
   ]
  },
  {
   "cell_type": "code",
   "execution_count": 17,
   "metadata": {},
   "outputs": [
    {
     "ename": "NameError",
     "evalue": "name 'ch' is not defined",
     "output_type": "error",
     "traceback": [
      "\u001b[1;31m---------------------------------------------------------------------------\u001b[0m",
      "\u001b[1;31mNameError\u001b[0m                                 Traceback (most recent call last)",
      "\u001b[1;32mc:\\Users\\tynka\\repozytoria\\physics-lab-ii\\lab10\\measured.ipynb Komórka 5\u001b[0m in \u001b[0;36m<cell line: 8>\u001b[1;34m()\u001b[0m\n\u001b[0;32m      <a href='vscode-notebook-cell:/c%3A/Users/tynka/repozytoria/physics-lab-ii/lab10/measured.ipynb#W4sZmlsZQ%3D%3D?line=3'>4</a>\u001b[0m dt \u001b[39m=\u001b[39m []\n\u001b[0;32m      <a href='vscode-notebook-cell:/c%3A/Users/tynka/repozytoria/physics-lab-ii/lab10/measured.ipynb#W4sZmlsZQ%3D%3D?line=5'>6</a>\u001b[0m integral \u001b[39m=\u001b[39m \u001b[39m0\u001b[39m\n\u001b[1;32m----> <a href='vscode-notebook-cell:/c%3A/Users/tynka/repozytoria/physics-lab-ii/lab10/measured.ipynb#W4sZmlsZQ%3D%3D?line=7'>8</a>\u001b[0m \u001b[39mfor\u001b[39;00m i \u001b[39min\u001b[39;00m \u001b[39mrange\u001b[39m(\u001b[39m0\u001b[39m, \u001b[39mlen\u001b[39m(ch[\u001b[39m\"\u001b[39m\u001b[39mU\u001b[39m\u001b[39m\"\u001b[39m])\u001b[39m-\u001b[39m\u001b[39m1\u001b[39m):\n\u001b[0;32m      <a href='vscode-notebook-cell:/c%3A/Users/tynka/repozytoria/physics-lab-ii/lab10/measured.ipynb#W4sZmlsZQ%3D%3D?line=8'>9</a>\u001b[0m     dU\u001b[39m.\u001b[39mappend((dch[\u001b[39m\"\u001b[39m\u001b[39mU\u001b[39m\u001b[39m\"\u001b[39m][i\u001b[39m+\u001b[39m\u001b[39m1\u001b[39m]\u001b[39m+\u001b[39mdch[\u001b[39m\"\u001b[39m\u001b[39mU\u001b[39m\u001b[39m\"\u001b[39m][i])\u001b[39m/\u001b[39m\u001b[39m2\u001b[39m)\n\u001b[0;32m     <a href='vscode-notebook-cell:/c%3A/Users/tynka/repozytoria/physics-lab-ii/lab10/measured.ipynb#W4sZmlsZQ%3D%3D?line=9'>10</a>\u001b[0m     dt\u001b[39m.\u001b[39mappend((dch[\u001b[39m\"\u001b[39m\u001b[39mt\u001b[39m\u001b[39m\"\u001b[39m][i\u001b[39m+\u001b[39m\u001b[39m1\u001b[39m]\u001b[39m-\u001b[39mdch[\u001b[39m\"\u001b[39m\u001b[39mt\u001b[39m\u001b[39m\"\u001b[39m][i]))\n",
      "\u001b[1;31mNameError\u001b[0m: name 'ch' is not defined"
     ]
    }
   ],
   "source": [
    "# moj sposob\n",
    "II = 0.36 # discharge and charge current\n",
    "dU = []\n",
    "dt = []\n",
    "\n",
    "integral = 0\n",
    "\n",
    "for i in range(0, len(ch[\"U\"])-1):\n",
    "    dU.append((dch[\"U\"][i+1]+dch[\"U\"][i])/2)\n",
    "    dt.append((dch[\"t\"][i+1]-dch[\"t\"][i]))\n",
    "\n",
    "\n",
    "# print(len(dU))\n",
    "\n",
    "for i in range(0, len(dU)):\n",
    "    integral += dU[i]*dt[i]*II\n",
    "    # integral += dU[i]*0.36\n",
    "    # integral += dch[\"U\"][i]*0.36\n",
    "\n",
    "integral"
   ]
  },
  {
   "cell_type": "code",
   "execution_count": null,
   "metadata": {},
   "outputs": [
    {
     "data": {
      "image/png": "[encoded data removed]",
      "text/plain": [
       "<Figure size 864x576 with 1 Axes>"
      ]
     },
     "metadata": {
      "needs_background": "light"
     },
     "output_type": "display_data"
    }
   ],
   "source": [
    "fig, ax = plt.subplots(figsize = (12,8))\n",
    "ax.plot(dch[\"t\"], dch[\"U\"], 'o', label=\"Messwerte\")\n",
    "ax.set_xlabel(r\"$t$ [$s$]\")\n",
    "ax.set_ylabel(r\"$U$ [$\\frac{V}{0}$]\")\n",
    "ax.legend()\n",
    "fig.savefig(\"out/dch.jpg\")\n",
    "\n",
    "plt.show()"
   ]
  },
  {
   "cell_type": "code",
   "execution_count": null,
   "metadata": {},
   "outputs": [
    {
     "data": {
      "text/plain": [
       "2098.346040000027"
      ]
     },
     "execution_count": 295,
     "metadata": {},
     "output_type": "execute_result"
    }
   ],
   "source": [
    "ch = pd.read_csv(\"in/KM_MT.003\", sep=\"\\s+\", header = 0, names = [\"t\", \"U\"], skiprows=0, usecols=[0, 1], decimal=\",\")\n",
    "\n",
    "ch[\"U\"] = ch[\"U\"]/1000\n",
    "\n",
    "# moj sposob\n",
    "dU = []\n",
    "dt = []\n",
    "\n",
    "integral = 0\n",
    "\n",
    "for i in range(0, len(ch[\"U\"])-1):\n",
    "    dU.append((ch[\"U\"][i+1]+ch[\"U\"][i])/2)\n",
    "    dt.append((ch[\"t\"][i+1]-ch[\"t\"][i]))\n",
    "\n",
    "\n",
    "# print(len(dU))\n",
    "\n",
    "for i in range(0, len(dU)):\n",
    "    integral += dU[i]*dt[i]*II\n",
    "    # integral += dU[i]*0.36\n",
    "    # integral += ch[\"U\"][i]*0.36\n",
    "\n",
    "integral\n",
    "\n",
    "# ich sposob\n",
    "\n",
    "# integral = 0\n",
    "# for i in range(0, len(ch[\"U\"])):\n",
    "#     integral += ch[\"U\"][i]*0.36\n",
    "\n"
   ]
  },
  {
   "cell_type": "code",
   "execution_count": null,
   "metadata": {},
   "outputs": [
    {
     "data": {
      "image/png": "[encoded data removed]",
      "text/plain": [
       "<Figure size 864x576 with 1 Axes>"
      ]
     },
     "metadata": {
      "needs_background": "light"
     },
     "output_type": "display_data"
    }
   ],
   "source": [
    "fig, ax = plt.subplots(figsize = (12,8))\n",
    "ax.plot(ch[\"t\"], ch[\"U\"], 'o', label=\"Messwerte\")\n",
    "ax.set_xlabel(r\"$t$ [$s$]\")\n",
    "ax.set_ylabel(r\"$U$ [$\\frac{V}{0}$]\")\n",
    "ax.legend()\n",
    "fig.savefig(\"out/ch.jpg\")\n",
    "\n",
    "plt.show()"
   ]
  }
 ],
 "metadata": {
  "kernelspec": {
   "display_name": "Python 3.10.4 64-bit",
   "language": "python",
   "name": "python3"
  },
  "language_info": {
   "codemirror_mode": {
    "name": "ipython",
    "version": 3
   },
   "file_extension": ".py",
   "mimetype": "text/x-python",
   "name": "python",
   "nbconvert_exporter": "python",
   "pygments_lexer": "ipython3",
   "version": "3.10.4"
  },
  "orig_nbformat": 4,
  "vscode": {
   "interpreter": {
    "hash": "5c8f1564ae92af90f4bda8b5b96bbe4d6d8181b86cfb3a298378705433cc0df3"
   }
  }
 },
 "nbformat": 4,
 "nbformat_minor": 2
}
