{
 "cells": [
  {
   "cell_type": "code",
   "execution_count": 25,
   "metadata": {},
   "outputs": [],
   "source": [
    "from cProfile import label\n",
    "import matplotlib.pyplot as plt\n",
    "import csv\n",
    "import numpy as np\n",
    "import pandas as pd\n",
    "from sympy import *\n",
    "import sys\n",
    "sys.path.append('..')\n",
    "\n",
    "from libka import *"
   ]
  },
  {
   "cell_type": "code",
   "execution_count": 26,
   "metadata": {},
   "outputs": [],
   "source": [
    "II = 0.018 # charge and discharge current"
   ]
  },
  {
   "cell_type": "code",
   "execution_count": 27,
   "metadata": {},
   "outputs": [
    {
     "data": {
      "text/html": [
       "<div>\n",
       "<style scoped>\n",
       "    .dataframe tbody tr th:only-of-type {\n",
       "        vertical-align: middle;\n",
       "    }\n",
       "\n",
       "    .dataframe tbody tr th {\n",
       "        vertical-align: top;\n",
       "    }\n",
       "\n",
       "    .dataframe thead th {\n",
       "        text-align: right;\n",
       "    }\n",
       "</style>\n",
       "<table border=\"1\" class=\"dataframe\">\n",
       "  <thead>\n",
       "    <tr style=\"text-align: right;\">\n",
       "      <th></th>\n",
       "      <th>t</th>\n",
       "      <th>U</th>\n",
       "      <th>Q</th>\n",
       "    </tr>\n",
       "  </thead>\n",
       "  <tbody>\n",
       "    <tr>\n",
       "      <th>0</th>\n",
       "      <td>0.0</td>\n",
       "      <td>2.643127</td>\n",
       "      <td>0.000</td>\n",
       "    </tr>\n",
       "    <tr>\n",
       "      <th>1</th>\n",
       "      <td>20.0</td>\n",
       "      <td>2.749939</td>\n",
       "      <td>0.100</td>\n",
       "    </tr>\n",
       "    <tr>\n",
       "      <th>2</th>\n",
       "      <td>40.0</td>\n",
       "      <td>2.803345</td>\n",
       "      <td>0.200</td>\n",
       "    </tr>\n",
       "    <tr>\n",
       "      <th>3</th>\n",
       "      <td>60.0</td>\n",
       "      <td>2.845764</td>\n",
       "      <td>0.300</td>\n",
       "    </tr>\n",
       "    <tr>\n",
       "      <th>4</th>\n",
       "      <td>80.0</td>\n",
       "      <td>2.881775</td>\n",
       "      <td>0.400</td>\n",
       "    </tr>\n",
       "    <tr>\n",
       "      <th>...</th>\n",
       "      <td>...</td>\n",
       "      <td>...</td>\n",
       "      <td>...</td>\n",
       "    </tr>\n",
       "    <tr>\n",
       "      <th>1911</th>\n",
       "      <td>38220.0</td>\n",
       "      <td>4.198608</td>\n",
       "      <td>191.100</td>\n",
       "    </tr>\n",
       "    <tr>\n",
       "      <th>1912</th>\n",
       "      <td>38240.0</td>\n",
       "      <td>4.199219</td>\n",
       "      <td>191.200</td>\n",
       "    </tr>\n",
       "    <tr>\n",
       "      <th>1913</th>\n",
       "      <td>38260.0</td>\n",
       "      <td>4.199829</td>\n",
       "      <td>191.300</td>\n",
       "    </tr>\n",
       "    <tr>\n",
       "      <th>1914</th>\n",
       "      <td>38280.0</td>\n",
       "      <td>4.200134</td>\n",
       "      <td>191.400</td>\n",
       "    </tr>\n",
       "    <tr>\n",
       "      <th>1915</th>\n",
       "      <td>38284.6</td>\n",
       "      <td>4.200439</td>\n",
       "      <td>191.423</td>\n",
       "    </tr>\n",
       "  </tbody>\n",
       "</table>\n",
       "<p>1916 rows × 3 columns</p>\n",
       "</div>"
      ],
      "text/plain": [
       "            t         U        Q\n",
       "0         0.0  2.643127    0.000\n",
       "1        20.0  2.749939    0.100\n",
       "2        40.0  2.803345    0.200\n",
       "3        60.0  2.845764    0.300\n",
       "4        80.0  2.881775    0.400\n",
       "...       ...       ...      ...\n",
       "1911  38220.0  4.198608  191.100\n",
       "1912  38240.0  4.199219  191.200\n",
       "1913  38260.0  4.199829  191.300\n",
       "1914  38280.0  4.200134  191.400\n",
       "1915  38284.6  4.200439  191.423\n",
       "\n",
       "[1916 rows x 3 columns]"
      ]
     },
     "execution_count": 27,
     "metadata": {},
     "output_type": "execute_result"
    }
   ],
   "source": [
    "df_charge = pd.read_csv(\"in/CH18mA.txt\", sep=\"\\s+\", skiprows=0, header=None, names=[\"t\", \"U\"], usecols=[0, 1], decimal=\",\")\n",
    "df_charge[\"Q\"] = df_charge[\"t\"] * II / 3600 * 1000 # mAh \n",
    "df_charge "
   ]
  },
  {
   "cell_type": "code",
   "execution_count": 28,
   "metadata": {},
   "outputs": [
    {
     "data": {
      "text/plain": [
       "2661.8602616622006"
      ]
     },
     "execution_count": 28,
     "metadata": {},
     "output_type": "execute_result"
    }
   ],
   "source": [
    "# moj sposob\n",
    "dU = []\n",
    "dt = []\n",
    "\n",
    "energy_charge = 0\n",
    "\n",
    "for i in range(0, len(df_charge[\"U\"])-1):\n",
    "    dU.append((df_charge[\"U\"][i+1]+df_charge[\"U\"][i])/2)\n",
    "    dt.append((df_charge[\"t\"][i+1]-df_charge[\"t\"][i]))\n",
    "\n",
    "\n",
    "# print(len(dU))\n",
    "\n",
    "for i in range(0, len(dU)):\n",
    "    energy_charge += dU[i]*dt[i]*II\n",
    "    # energy_discharge += dU[i]*0.36\n",
    "    # energy_discharge += dch[\"U\"][i]*0.36\n",
    "\n",
    "energy_charge"
   ]
  },
  {
   "cell_type": "code",
   "execution_count": 29,
   "metadata": {},
   "outputs": [
    {
     "name": "stderr",
     "output_type": "stream",
     "text": [
      "No artists with labels found to put in legend.  Note that artists whose label start with an underscore are ignored when legend() is called with no argument.\n"
     ]
    },
    {
     "data": {
      "image/png": "[encoded data removed]",
      "text/plain": [
       "<Figure size 864x720 with 1 Axes>"
      ]
     },
     "metadata": {
      "needs_background": "light"
     },
     "output_type": "display_data"
    }
   ],
   "source": [
    "fig, ax = plt.subplots(figsize=(12, 10))\n",
    "ax.plot(df_charge[\"Q\"], df_charge[\"U\"], 'o', label=\"\")\n",
    "ax.set_xlabel(\"Q [mAh]\")\n",
    "ax.set_ylabel(\"U [V]\")\n",
    "ax.legend()\n",
    "plt.savefig(\"out/ch0.jpg\")\n",
    "plt.show()"
   ]
  },
  {
   "cell_type": "code",
   "execution_count": 30,
   "metadata": {},
   "outputs": [],
   "source": [
    "df_discharge = pd.read_csv(\"in/DCH18mA.txt\", sep=\"\\s+\", skiprows=0, header=None, names=[\"t\", \"U\"], usecols=[0, 1], decimal=\",\")\n",
    "df_discharge[\"Q\"] = df_discharge[\"t\"] * II / 3600 * 1000 # mAh "
   ]
  },
  {
   "cell_type": "code",
   "execution_count": 31,
   "metadata": {},
   "outputs": [
    {
     "data": {
      "text/plain": [
       "2635.3473983820013"
      ]
     },
     "execution_count": 31,
     "metadata": {},
     "output_type": "execute_result"
    }
   ],
   "source": [
    "# moj sposob\n",
    "dU = []\n",
    "dt = []\n",
    "\n",
    "energy_discharge = 0\n",
    "\n",
    "for i in range(0, len(df_discharge[\"U\"])-1):\n",
    "    dU.append((df_discharge[\"U\"][i+1]+df_discharge[\"U\"][i])/2)\n",
    "    dt.append((df_discharge[\"t\"][i+1]-df_discharge[\"t\"][i]))\n",
    "\n",
    "\n",
    "# print(len(dU))\n",
    "\n",
    "for i in range(0, len(dU)):\n",
    "    energy_discharge += dU[i]*dt[i]*II\n",
    "    # energy_discharge += dU[i]*0.36\n",
    "    # energy_discharge += dch[\"U\"][i]*0.36\n",
    "\n",
    "energy_discharge"
   ]
  },
  {
   "cell_type": "code",
   "execution_count": 32,
   "metadata": {},
   "outputs": [
    {
     "name": "stderr",
     "output_type": "stream",
     "text": [
      "No artists with labels found to put in legend.  Note that artists whose label start with an underscore are ignored when legend() is called with no argument.\n"
     ]
    },
    {
     "data": {
      "image/png": "[encoded data removed]",
      "text/plain": [
       "<Figure size 864x720 with 1 Axes>"
      ]
     },
     "metadata": {
      "needs_background": "light"
     },
     "output_type": "display_data"
    }
   ],
   "source": [
    "fig, ax = plt.subplots(figsize=(12, 10))\n",
    "ax.plot(df_discharge[\"Q\"], df_discharge[\"U\"], 'o', label=\"\")\n",
    "ax.set_xlabel(\"Q [mAh]\")\n",
    "ax.set_ylabel(\"U [V]\")\n",
    "ax.legend()\n",
    "\n",
    "plt.savefig(\"out/dch0.jpg\")\n",
    "plt.show()"
   ]
  },
  {
   "cell_type": "code",
   "execution_count": 33,
   "metadata": {},
   "outputs": [
    {
     "data": {
      "text/plain": [
       "0.9900397238494993"
      ]
     },
     "execution_count": 33,
     "metadata": {},
     "output_type": "execute_result"
    }
   ],
   "source": [
    "# efficiency\n",
    "eta = energy_discharge/energy_charge\n",
    "eta\n"
   ]
  }
 ],
 "metadata": {
  "kernelspec": {
   "display_name": "Python 3.11.0 64-bit",
   "language": "python",
   "name": "python3"
  },
  "language_info": {
   "codemirror_mode": {
    "name": "ipython",
    "version": 3
   },
   "file_extension": ".py",
   "mimetype": "text/x-python",
   "name": "python",
   "nbconvert_exporter": "python",
   "pygments_lexer": "ipython3",
   "version": "3.11.0"
  },
  "orig_nbformat": 4,
  "vscode": {
   "interpreter": {
    "hash": "e7370f93d1d0cde622a1f8e1c04877d8463912d04d973331ad4851f04de6915a"
   }
  }
 },
 "nbformat": 4,
 "nbformat_minor": 2
}
