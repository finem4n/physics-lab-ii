{
 "cells": [
  {
   "cell_type": "code",
   "execution_count": 160,
   "metadata": {},
   "outputs": [],
   "source": [
    "from cProfile import label\n",
    "import matplotlib.pyplot as plt\n",
    "import csv\n",
    "import numpy as np\n",
    "import pandas as pd\n",
    "from sympy import *\n",
    "import scipy as sp\n",
    "import sys\n",
    "sys.path.append('..')\n",
    "\n",
    "from libka import *"
   ]
  },
  {
   "cell_type": "code",
   "execution_count": 161,
   "metadata": {},
   "outputs": [],
   "source": [
    "II = 0.36 # charge and discharge current\n",
    "dch = pd.read_csv(\"in/KM_MT.001\", sep=\"\\s+\", header = 0, names = [\"t\", \"U\"], skiprows=0, usecols=[0, 1], decimal=\",\")\n",
    "dch[\"U\"] = dch[\"U\"]/1000\n",
    "dch[\"Q\"] = dch[\"t\"] * II / 3600 * 1000 # mAh "
   ]
  },
  {
   "cell_type": "code",
   "execution_count": 162,
   "metadata": {},
   "outputs": [
    {
     "name": "stdout",
     "output_type": "stream",
     "text": [
      "4.044\n",
      "317\n"
     ]
    },
    {
     "data": {
      "text/html": [
       "<div>\n",
       "<style scoped>\n",
       "    .dataframe tbody tr th:only-of-type {\n",
       "        vertical-align: middle;\n",
       "    }\n",
       "\n",
       "    .dataframe tbody tr th {\n",
       "        vertical-align: top;\n",
       "    }\n",
       "\n",
       "    .dataframe thead th {\n",
       "        text-align: right;\n",
       "    }\n",
       "</style>\n",
       "<table border=\"1\" class=\"dataframe\">\n",
       "  <thead>\n",
       "    <tr style=\"text-align: right;\">\n",
       "      <th></th>\n",
       "      <th>t</th>\n",
       "      <th>U</th>\n",
       "      <th>Q</th>\n",
       "    </tr>\n",
       "  </thead>\n",
       "  <tbody>\n",
       "    <tr>\n",
       "      <th>0</th>\n",
       "      <td>0.0</td>\n",
       "      <td>4.043884</td>\n",
       "      <td>0.0000</td>\n",
       "    </tr>\n",
       "    <tr>\n",
       "      <th>1</th>\n",
       "      <td>20.0</td>\n",
       "      <td>4.043274</td>\n",
       "      <td>0.1000</td>\n",
       "    </tr>\n",
       "    <tr>\n",
       "      <th>2</th>\n",
       "      <td>40.0</td>\n",
       "      <td>4.042664</td>\n",
       "      <td>0.2000</td>\n",
       "    </tr>\n",
       "    <tr>\n",
       "      <th>3</th>\n",
       "      <td>60.0</td>\n",
       "      <td>4.042053</td>\n",
       "      <td>0.3000</td>\n",
       "    </tr>\n",
       "    <tr>\n",
       "      <th>4</th>\n",
       "      <td>80.0</td>\n",
       "      <td>4.041443</td>\n",
       "      <td>0.4000</td>\n",
       "    </tr>\n",
       "    <tr>\n",
       "      <th>...</th>\n",
       "      <td>...</td>\n",
       "      <td>...</td>\n",
       "      <td>...</td>\n",
       "    </tr>\n",
       "    <tr>\n",
       "      <th>1590</th>\n",
       "      <td>31800.0</td>\n",
       "      <td>2.758484</td>\n",
       "      <td>159.0000</td>\n",
       "    </tr>\n",
       "    <tr>\n",
       "      <th>1591</th>\n",
       "      <td>31820.0</td>\n",
       "      <td>2.722778</td>\n",
       "      <td>159.1000</td>\n",
       "    </tr>\n",
       "    <tr>\n",
       "      <th>1592</th>\n",
       "      <td>31840.0</td>\n",
       "      <td>2.683411</td>\n",
       "      <td>159.2000</td>\n",
       "    </tr>\n",
       "    <tr>\n",
       "      <th>1593</th>\n",
       "      <td>31860.0</td>\n",
       "      <td>2.640686</td>\n",
       "      <td>159.3000</td>\n",
       "    </tr>\n",
       "    <tr>\n",
       "      <th>1594</th>\n",
       "      <td>31878.5</td>\n",
       "      <td>2.599182</td>\n",
       "      <td>159.3925</td>\n",
       "    </tr>\n",
       "  </tbody>\n",
       "</table>\n",
       "<p>1595 rows × 3 columns</p>\n",
       "</div>"
      ],
      "text/plain": [
       "            t         U         Q\n",
       "0         0.0  4.043884    0.0000\n",
       "1        20.0  4.043274    0.1000\n",
       "2        40.0  4.042664    0.2000\n",
       "3        60.0  4.042053    0.3000\n",
       "4        80.0  4.041443    0.4000\n",
       "...       ...       ...       ...\n",
       "1590  31800.0  2.758484  159.0000\n",
       "1591  31820.0  2.722778  159.1000\n",
       "1592  31840.0  2.683411  159.2000\n",
       "1593  31860.0  2.640686  159.3000\n",
       "1594  31878.5  2.599182  159.3925\n",
       "\n",
       "[1595 rows x 3 columns]"
      ]
     },
     "execution_count": 162,
     "metadata": {},
     "output_type": "execute_result"
    }
   ],
   "source": [
    "II2 = 0.018 # charge and discharge current\n",
    "df_discharge = pd.read_csv(\"in/DCH18mA.txt\", sep=\"\\s+\", skiprows=0, header=None, names=[\"t\", \"U\"], usecols=[0, 1], decimal=\",\")\n",
    "df_discharge[\"Q\"] = df_discharge[\"t\"] * II2 / 3600 * 1000 # mAh \n",
    "\n",
    "discharge = []\n",
    "\n",
    "print(dch[\"U\"][0])\n",
    "result_index = df_discharge[\"U\"].sub(dch[\"U\"][0]).abs().idxmin()\n",
    "\n",
    "print(result_index)\n",
    "df_discharge1 = df_discharge[result_index:].copy()\n",
    "df_discharge1.index = np.arange(len(df_discharge1))\n",
    "df_discharge1[\"Q\"] = df_discharge1[\"Q\"] - df_discharge1[\"Q\"][0]\n",
    "df_discharge1[\"t\"] = df_discharge1[\"t\"] - df_discharge1[\"t\"][0]\n",
    "df_discharge1\n",
    "\n",
    "# for i in range(len(df_discharge1[\"Q\"])):\n",
    "    # df_discharge1.loc[i, \"Q\"] = df_discharge1.loc[i, \"Q\"] - df_discharge1.loc[]\n",
    "\n",
    "# for i in range(min, len(df_discharge[\"Q\"])):\n",
    "    # discharge.append([df_discharge[\"Q\"][i], df_discharge[\"U\"][i]])"
   ]
  },
  {
   "cell_type": "code",
   "execution_count": 163,
   "metadata": {},
   "outputs": [
    {
     "data": {
      "image/png": "[encoded data removed]",
      "text/plain": [
       "<Figure size 864x576 with 1 Axes>"
      ]
     },
     "metadata": {
      "needs_background": "light"
     },
     "output_type": "display_data"
    }
   ],
   "source": [
    "fig, ax = plt.subplots(figsize = (12,8))\n",
    "ax.plot(dch[\"Q\"], dch[\"U\"], 'o', label=\"dane pomiarowe\")\n",
    "ax.plot(df_discharge1[\"Q\"], df_discharge1[\"U\"], 'o', label=\"dane wzorcowe\")\n",
    "ax.set_xlabel(r\"$Q$ [$mAh$]\")\n",
    "ax.set_ylabel(r\"$U$ [$\\frac{V}{0}$]\")\n",
    "ax.set_title(\"Rozładowania ogniw\")\n",
    "ax.legend()\n",
    "fig.savefig(\"out/compare_discharge.jpg\")\n",
    "\n",
    "plt.show()"
   ]
  },
  {
   "cell_type": "code",
   "execution_count": 164,
   "metadata": {},
   "outputs": [
    {
     "data": {
      "text/plain": [
       "2126.815195139999"
      ]
     },
     "execution_count": 164,
     "metadata": {},
     "output_type": "execute_result"
    }
   ],
   "source": [
    "# moj sposob\n",
    "dU = []\n",
    "dt = []\n",
    "\n",
    "energy_discharge = 0\n",
    "\n",
    "for i in range(0, len(dch[\"U\"])-1):\n",
    "    dU.append((df_discharge1[\"U\"][i+1]+df_discharge1[\"U\"][i])/2)\n",
    "    dt.append((df_discharge1[\"t\"][i+1]-df_discharge1[\"t\"][i]))\n",
    "\n",
    "for i in range(0, len(dU)):\n",
    "    energy_discharge += dU[i]*dt[i]*II2\n",
    "\n",
    "energy_discharge"
   ]
  },
  {
   "cell_type": "code",
   "execution_count": 165,
   "metadata": {},
   "outputs": [],
   "source": [
    "df_charge = pd.read_csv(\"in/CH18mA.txt\", sep=\"\\s+\", skiprows=0, header=None, names=[\"t\", \"U\"], usecols=[0, 1], decimal=\",\")\n",
    "df_charge[\"Q\"] = df_charge[\"t\"] * II2 / 3600 * 1000 # mAh "
   ]
  },
  {
   "cell_type": "code",
   "execution_count": 166,
   "metadata": {},
   "outputs": [],
   "source": [
    "ch = pd.read_csv(\"in/KM_MT.003\", sep=\"\\s+\", header = 0, names = [\"t\", \"U\"], skiprows=0, usecols=[0, 1], decimal=\",\")\n",
    "\n",
    "ch[\"t0\"] = ch[\"t\"] - ch[\"t\"][0]\n",
    "\n",
    "ch[\"U\"] = ch[\"U\"]/1000\n",
    "ch[\"Q\"] = ch[\"t0\"] * II / 3600 * 1000 # mAh "
   ]
  },
  {
   "cell_type": "code",
   "execution_count": 167,
   "metadata": {},
   "outputs": [
    {
     "data": {
      "image/png": "[encoded data removed]",
      "text/plain": [
       "<Figure size 864x576 with 1 Axes>"
      ]
     },
     "metadata": {
      "needs_background": "light"
     },
     "output_type": "display_data"
    }
   ],
   "source": [
    "fig, ax = plt.subplots(figsize = (12,8))\n",
    "ax.plot(ch[\"Q\"], ch[\"U\"], 'o', label=\"dane pomiarowe\")\n",
    "ax.plot(df_charge[\"Q\"], df_charge[\"U\"], 'o', label=\"dane wzorcowe\")\n",
    "\n",
    "ax.set_xlabel(r\"$Q$ [$mAh$]\")\n",
    "ax.set_ylabel(r\"$U$ [$V$]\")\n",
    "ax.set_title(\"Ładowanie ogniw\")\n",
    "ax.legend(loc=4)\n",
    "fig.savefig(\"out/compare_charged.jpg\")\n",
    "\n",
    "plt.show()"
   ]
  },
  {
   "cell_type": "code",
   "execution_count": null,
   "metadata": {},
   "outputs": [],
   "source": []
  }
 ],
 "metadata": {
  "kernelspec": {
   "display_name": "Python 3.11.0 64-bit",
   "language": "python",
   "name": "python3"
  },
  "language_info": {
   "codemirror_mode": {
    "name": "ipython",
    "version": 3
   },
   "file_extension": ".py",
   "mimetype": "text/x-python",
   "name": "python",
   "nbconvert_exporter": "python",
   "pygments_lexer": "ipython3",
   "version": "3.11.0"
  },
  "orig_nbformat": 4,
  "vscode": {
   "interpreter": {
    "hash": "e7370f93d1d0cde622a1f8e1c04877d8463912d04d973331ad4851f04de6915a"
   }
  }
 },
 "nbformat": 4,
 "nbformat_minor": 2
}
