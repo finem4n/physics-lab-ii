{
 "cells": [
  {
   "cell_type": "code",
   "execution_count": 1,
   "metadata": {},
   "outputs": [],
   "source": [
    "from cProfile import label\n",
    "import matplotlib.pyplot as plt\n",
    "import csv\n",
    "import numpy as np\n",
    "import pandas as pd\n",
    "from sympy import *\n",
    "import scipy as sp\n",
    "import sys\n",
    "sys.path.append('..')\n",
    "\n",
    "from libka import *"
   ]
  },
  {
   "cell_type": "code",
   "execution_count": 2,
   "metadata": {},
   "outputs": [],
   "source": [
    "U_P = 0.4260 # V probka\n",
    "U_W = 0.2006 # V wzorcowe/ opornik \n",
    "I_ZASILACZ = 0.002 # A\n",
    "Rp = U_P / I_ZASILACZ # Ohm dla I = 0\n",
    "Rw = U_W / I_ZASILACZ # Ohm dla I = 0\n",
    "\n",
    "LENGTH = 7.8 * 10**(-3) # m\n",
    "AA = 4 * 10**(-3) # m\n",
    "DD = 0.3 * 10**(-6) # m"
   ]
  },
  {
   "cell_type": "code",
   "execution_count": 3,
   "metadata": {},
   "outputs": [],
   "source": [
    "df = pd.read_csv('in/resistance.csv', names = [\"I\", \"Up\", \"Uw\"], header = 0)"
   ]
  },
  {
   "cell_type": "code",
   "execution_count": 4,
   "metadata": {},
   "outputs": [],
   "source": [
    "df[\"Rp\"] = df[\"Up\"] / I_ZASILACZ\n",
    "df[\"Rw\"] = df[\"Uw\"] / I_ZASILACZ"
   ]
  },
  {
   "cell_type": "code",
   "execution_count": 5,
   "metadata": {},
   "outputs": [
    {
     "data": {
      "text/html": [
       "<div>\n",
       "<style scoped>\n",
       "    .dataframe tbody tr th:only-of-type {\n",
       "        vertical-align: middle;\n",
       "    }\n",
       "\n",
       "    .dataframe tbody tr th {\n",
       "        vertical-align: top;\n",
       "    }\n",
       "\n",
       "    .dataframe thead th {\n",
       "        text-align: right;\n",
       "    }\n",
       "</style>\n",
       "<table border=\"1\" class=\"dataframe\">\n",
       "  <thead>\n",
       "    <tr style=\"text-align: right;\">\n",
       "      <th></th>\n",
       "      <th>I</th>\n",
       "      <th>Up</th>\n",
       "      <th>Uw</th>\n",
       "      <th>Rp</th>\n",
       "      <th>Rw</th>\n",
       "    </tr>\n",
       "  </thead>\n",
       "  <tbody>\n",
       "    <tr>\n",
       "      <th>0</th>\n",
       "      <td>0.0</td>\n",
       "      <td>0.4260</td>\n",
       "      <td>0.2006</td>\n",
       "      <td>213.00</td>\n",
       "      <td>100.30</td>\n",
       "    </tr>\n",
       "    <tr>\n",
       "      <th>1</th>\n",
       "      <td>0.5</td>\n",
       "      <td>0.4308</td>\n",
       "      <td>0.2007</td>\n",
       "      <td>215.40</td>\n",
       "      <td>100.35</td>\n",
       "    </tr>\n",
       "    <tr>\n",
       "      <th>2</th>\n",
       "      <td>1.0</td>\n",
       "      <td>0.4322</td>\n",
       "      <td>0.2007</td>\n",
       "      <td>216.10</td>\n",
       "      <td>100.35</td>\n",
       "    </tr>\n",
       "    <tr>\n",
       "      <th>3</th>\n",
       "      <td>1.5</td>\n",
       "      <td>0.4344</td>\n",
       "      <td>0.2007</td>\n",
       "      <td>217.20</td>\n",
       "      <td>100.35</td>\n",
       "    </tr>\n",
       "    <tr>\n",
       "      <th>4</th>\n",
       "      <td>2.0</td>\n",
       "      <td>0.4376</td>\n",
       "      <td>0.2007</td>\n",
       "      <td>218.80</td>\n",
       "      <td>100.35</td>\n",
       "    </tr>\n",
       "    <tr>\n",
       "      <th>5</th>\n",
       "      <td>2.5</td>\n",
       "      <td>0.4411</td>\n",
       "      <td>0.2008</td>\n",
       "      <td>220.55</td>\n",
       "      <td>100.40</td>\n",
       "    </tr>\n",
       "    <tr>\n",
       "      <th>6</th>\n",
       "      <td>3.0</td>\n",
       "      <td>0.4449</td>\n",
       "      <td>0.2007</td>\n",
       "      <td>222.45</td>\n",
       "      <td>100.35</td>\n",
       "    </tr>\n",
       "    <tr>\n",
       "      <th>7</th>\n",
       "      <td>3.5</td>\n",
       "      <td>0.4483</td>\n",
       "      <td>0.2007</td>\n",
       "      <td>224.15</td>\n",
       "      <td>100.35</td>\n",
       "    </tr>\n",
       "    <tr>\n",
       "      <th>8</th>\n",
       "      <td>4.0</td>\n",
       "      <td>0.4513</td>\n",
       "      <td>0.2006</td>\n",
       "      <td>225.65</td>\n",
       "      <td>100.30</td>\n",
       "    </tr>\n",
       "    <tr>\n",
       "      <th>9</th>\n",
       "      <td>4.5</td>\n",
       "      <td>0.4538</td>\n",
       "      <td>0.2006</td>\n",
       "      <td>226.90</td>\n",
       "      <td>100.30</td>\n",
       "    </tr>\n",
       "    <tr>\n",
       "      <th>10</th>\n",
       "      <td>5.0</td>\n",
       "      <td>0.4561</td>\n",
       "      <td>0.2006</td>\n",
       "      <td>228.05</td>\n",
       "      <td>100.30</td>\n",
       "    </tr>\n",
       "    <tr>\n",
       "      <th>11</th>\n",
       "      <td>5.4</td>\n",
       "      <td>0.4576</td>\n",
       "      <td>0.2007</td>\n",
       "      <td>228.80</td>\n",
       "      <td>100.35</td>\n",
       "    </tr>\n",
       "  </tbody>\n",
       "</table>\n",
       "</div>"
      ],
      "text/plain": [
       "      I      Up      Uw      Rp      Rw\n",
       "0   0.0  0.4260  0.2006  213.00  100.30\n",
       "1   0.5  0.4308  0.2007  215.40  100.35\n",
       "2   1.0  0.4322  0.2007  216.10  100.35\n",
       "3   1.5  0.4344  0.2007  217.20  100.35\n",
       "4   2.0  0.4376  0.2007  218.80  100.35\n",
       "5   2.5  0.4411  0.2008  220.55  100.40\n",
       "6   3.0  0.4449  0.2007  222.45  100.35\n",
       "7   3.5  0.4483  0.2007  224.15  100.35\n",
       "8   4.0  0.4513  0.2006  225.65  100.30\n",
       "9   4.5  0.4538  0.2006  226.90  100.30\n",
       "10  5.0  0.4561  0.2006  228.05  100.30\n",
       "11  5.4  0.4576  0.2007  228.80  100.35"
      ]
     },
     "execution_count": 5,
     "metadata": {},
     "output_type": "execute_result"
    }
   ],
   "source": [
    "df"
   ]
  },
  {
   "cell_type": "code",
   "execution_count": 6,
   "metadata": {},
   "outputs": [
    {
     "data": {
      "text/plain": [
       "30516.43192488263"
      ]
     },
     "execution_count": 6,
     "metadata": {},
     "output_type": "execute_result"
    }
   ],
   "source": [
    "# https://pl.wikipedia.org/wiki/Prawo_Ohma\n",
    "# liczymy dla I = 0, bo B = 0\n",
    "sigma = 1 / Rp * LENGTH / AA / DD\n",
    "sigma\n",
    "\n"
   ]
  },
  {
   "cell_type": "code",
   "execution_count": 7,
   "metadata": {},
   "outputs": [],
   "source": [
    "# stala halla i koncenctracja z pierwszej czesci\n",
    "# magnetopoor w funkcji pola i w funkci kwadratu\n",
    "# zakladamy, ze jeden typ nosnikow przewaza\n",
    "# ruchliwosc bez pola i dla jakiejs wartosci pola (wiekszej)\n",
    "# opornosc dla jednego typu nosnikow"
   ]
  }
 ],
 "metadata": {
  "kernelspec": {
   "display_name": "Python 3.10.4 64-bit",
   "language": "python",
   "name": "python3"
  },
  "language_info": {
   "codemirror_mode": {
    "name": "ipython",
    "version": 3
   },
   "file_extension": ".py",
   "mimetype": "text/x-python",
   "name": "python",
   "nbconvert_exporter": "python",
   "pygments_lexer": "ipython3",
<<<<<<< HEAD
   "version": "3.10.4 (main, Nov 29 2022, 20:00:25) [GCC 9.4.0]"
=======
   "version": "3.10.4 (tags/v3.10.4:9d38120, Mar 23 2022, 23:13:41) [MSC v.1929 64 bit (AMD64)]"
>>>>>>> 648941bc8c35667fadc9e0fe256a74b5c50e4a50
  },
  "orig_nbformat": 4,
  "vscode": {
   "interpreter": {
<<<<<<< HEAD
    "hash": "3ad933181bd8a04b432d3370b9dc3b0662ad032c4dfaa4e4f1596c548f763858"
=======
    "hash": "5c8f1564ae92af90f4bda8b5b96bbe4d6d8181b86cfb3a298378705433cc0df3"
>>>>>>> 648941bc8c35667fadc9e0fe256a74b5c50e4a50
   }
  }
 },
 "nbformat": 4,
 "nbformat_minor": 2
}
