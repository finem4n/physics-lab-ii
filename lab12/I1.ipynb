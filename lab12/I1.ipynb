{
 "cells": [
  {
   "cell_type": "code",
   "execution_count": 1,
   "metadata": {},
   "outputs": [],
   "source": [
    "from cProfile import label\n",
    "import matplotlib.pyplot as plt\n",
    "import csv\n",
    "import numpy as np\n",
    "import pandas as pd\n",
    "from sympy import *\n",
    "import scipy as sp\n",
    "import sys\n",
    "sys.path.append('..')\n",
    "\n",
    "from libka import *"
   ]
  },
  {
   "cell_type": "code",
   "execution_count": 2,
   "metadata": {},
   "outputs": [],
   "source": [
    "I_ZASILACZ = 1.00 * 10**(-3) #A\n",
    "U_NIESYMETRYZACJI = -0.31 #mV dla Icewki =0\n",
    "PODZIALKA_HALLA = 0.1 # A\n",
    "d = 0.3 * 10**(-6) # m\n",
    "e = 1.602 * 10**(-19) # C\n",
    "\n",
    "\n",
    "# check unit of sigma\n",
    "SIGMA = 30516.43192488263 # 1/(Ohm*m) "
   ]
  },
  {
   "cell_type": "code",
   "execution_count": 3,
   "metadata": {},
   "outputs": [],
   "source": [
    "df = pd.read_csv(\"in/dataI1.csv\", names = [\"I\", \"U mV\"], header = 0)"
   ]
  },
  {
   "cell_type": "code",
   "execution_count": 4,
   "metadata": {},
   "outputs": [
    {
     "data": {
      "text/html": [
       "<div>\n",
       "<style scoped>\n",
       "    .dataframe tbody tr th:only-of-type {\n",
       "        vertical-align: middle;\n",
       "    }\n",
       "\n",
       "    .dataframe tbody tr th {\n",
       "        vertical-align: top;\n",
       "    }\n",
       "\n",
       "    .dataframe thead th {\n",
       "        text-align: right;\n",
       "    }\n",
       "</style>\n",
       "<table border=\"1\" class=\"dataframe\">\n",
       "  <thead>\n",
       "    <tr style=\"text-align: right;\">\n",
       "      <th></th>\n",
       "      <th>I</th>\n",
       "      <th>U mV</th>\n",
       "      <th>U</th>\n",
       "      <th>B</th>\n",
       "      <th>uI</th>\n",
       "      <th>uU</th>\n",
       "      <th>uB</th>\n",
       "    </tr>\n",
       "  </thead>\n",
       "  <tbody>\n",
       "    <tr>\n",
       "      <th>0</th>\n",
       "      <td>0.0</td>\n",
       "      <td>-0.31</td>\n",
       "      <td>-0.00031</td>\n",
       "      <td>0.006730</td>\n",
       "      <td>0.06455</td>\n",
       "      <td>0.000010</td>\n",
       "      <td>0.011973</td>\n",
       "    </tr>\n",
       "    <tr>\n",
       "      <th>1</th>\n",
       "      <td>0.5</td>\n",
       "      <td>1.94</td>\n",
       "      <td>0.00194</td>\n",
       "      <td>0.099628</td>\n",
       "      <td>0.06455</td>\n",
       "      <td>0.000011</td>\n",
       "      <td>0.011965</td>\n",
       "    </tr>\n",
       "    <tr>\n",
       "      <th>2</th>\n",
       "      <td>1.0</td>\n",
       "      <td>4.18</td>\n",
       "      <td>0.00418</td>\n",
       "      <td>0.191400</td>\n",
       "      <td>0.06455</td>\n",
       "      <td>0.000011</td>\n",
       "      <td>0.011689</td>\n",
       "    </tr>\n",
       "    <tr>\n",
       "      <th>3</th>\n",
       "      <td>1.5</td>\n",
       "      <td>6.28</td>\n",
       "      <td>0.00628</td>\n",
       "      <td>0.280113</td>\n",
       "      <td>0.06455</td>\n",
       "      <td>0.000012</td>\n",
       "      <td>0.011182</td>\n",
       "    </tr>\n",
       "    <tr>\n",
       "      <th>4</th>\n",
       "      <td>2.0</td>\n",
       "      <td>8.54</td>\n",
       "      <td>0.00854</td>\n",
       "      <td>0.364130</td>\n",
       "      <td>0.06455</td>\n",
       "      <td>0.000013</td>\n",
       "      <td>0.010483</td>\n",
       "    </tr>\n",
       "    <tr>\n",
       "      <th>5</th>\n",
       "      <td>2.5</td>\n",
       "      <td>10.46</td>\n",
       "      <td>0.01046</td>\n",
       "      <td>0.442118</td>\n",
       "      <td>0.06455</td>\n",
       "      <td>0.000013</td>\n",
       "      <td>0.009631</td>\n",
       "    </tr>\n",
       "    <tr>\n",
       "      <th>6</th>\n",
       "      <td>3.0</td>\n",
       "      <td>12.51</td>\n",
       "      <td>0.01251</td>\n",
       "      <td>0.513041</td>\n",
       "      <td>0.06455</td>\n",
       "      <td>0.000014</td>\n",
       "      <td>0.008665</td>\n",
       "    </tr>\n",
       "    <tr>\n",
       "      <th>7</th>\n",
       "      <td>3.5</td>\n",
       "      <td>14.12</td>\n",
       "      <td>0.01412</td>\n",
       "      <td>0.576164</td>\n",
       "      <td>0.06455</td>\n",
       "      <td>0.000014</td>\n",
       "      <td>0.007624</td>\n",
       "    </tr>\n",
       "    <tr>\n",
       "      <th>8</th>\n",
       "      <td>4.0</td>\n",
       "      <td>15.37</td>\n",
       "      <td>0.01537</td>\n",
       "      <td>0.631052</td>\n",
       "      <td>0.06455</td>\n",
       "      <td>0.000015</td>\n",
       "      <td>0.006545</td>\n",
       "    </tr>\n",
       "    <tr>\n",
       "      <th>9</th>\n",
       "      <td>4.5</td>\n",
       "      <td>16.35</td>\n",
       "      <td>0.01635</td>\n",
       "      <td>0.677571</td>\n",
       "      <td>0.06455</td>\n",
       "      <td>0.000015</td>\n",
       "      <td>0.005469</td>\n",
       "    </tr>\n",
       "    <tr>\n",
       "      <th>10</th>\n",
       "      <td>5.0</td>\n",
       "      <td>17.26</td>\n",
       "      <td>0.01726</td>\n",
       "      <td>0.715886</td>\n",
       "      <td>0.06455</td>\n",
       "      <td>0.000015</td>\n",
       "      <td>0.004434</td>\n",
       "    </tr>\n",
       "    <tr>\n",
       "      <th>11</th>\n",
       "      <td>5.4</td>\n",
       "      <td>18.06</td>\n",
       "      <td>0.01806</td>\n",
       "      <td>0.740932</td>\n",
       "      <td>0.06455</td>\n",
       "      <td>0.000015</td>\n",
       "      <td>0.003660</td>\n",
       "    </tr>\n",
       "  </tbody>\n",
       "</table>\n",
       "</div>"
      ],
      "text/plain": [
       "      I   U mV        U         B       uI        uU        uB\n",
       "0   0.0  -0.31 -0.00031  0.006730  0.06455  0.000010  0.011973\n",
       "1   0.5   1.94  0.00194  0.099628  0.06455  0.000011  0.011965\n",
       "2   1.0   4.18  0.00418  0.191400  0.06455  0.000011  0.011689\n",
       "3   1.5   6.28  0.00628  0.280113  0.06455  0.000012  0.011182\n",
       "4   2.0   8.54  0.00854  0.364130  0.06455  0.000013  0.010483\n",
       "5   2.5  10.46  0.01046  0.442118  0.06455  0.000013  0.009631\n",
       "6   3.0  12.51  0.01251  0.513041  0.06455  0.000014  0.008665\n",
       "7   3.5  14.12  0.01412  0.576164  0.06455  0.000014  0.007624\n",
       "8   4.0  15.37  0.01537  0.631052  0.06455  0.000015  0.006545\n",
       "9   4.5  16.35  0.01635  0.677571  0.06455  0.000015  0.005469\n",
       "10  5.0  17.26  0.01726  0.715886  0.06455  0.000015  0.004434\n",
       "11  5.4  18.06  0.01806  0.740932  0.06455  0.000015  0.003660"
      ]
     },
     "execution_count": 4,
     "metadata": {},
     "output_type": "execute_result"
    }
   ],
   "source": [
    "df[\"U\"] = df[\"U mV\"] * 10**(-3) # V\n",
    "df[\"B\"] = 0.00673 + 0.18548 * df[\"I\"] + 0.00217 * df[\"I\"]**2 - 0.00318 * df[\"I\"]**3 + 2.00009 * 10**(-4) * df[\"I\"]**4\n",
    "\n",
    "df[\"uI\"] = typeB(PODZIALKA_HALLA, PODZIALKA_HALLA/2)\n",
    "df[\"uU\"] = 0.03/100*df[\"U\"] + 0.01 * 10**(-3) # V\n",
    "df[\"uB\"] = (0.18548 + 2 * 0.00217 * df[\"I\"] - 3 * 0.00318 * df[\"I\"]**2 + 4* 2.00009 * 10**(-4) * df[\"I\"]**3) * df[\"uI\"]\n",
    "df"
   ]
  },
  {
   "cell_type": "code",
   "execution_count": 5,
   "metadata": {},
   "outputs": [
    {
     "name": "stdout",
     "output_type": "stream",
     "text": [
      "a =  39.91188087033584 , ua =  0.40929006942049523\n",
      "b =  0.02177510354362861 , ub =  0.006285323733104895\n",
      "chi2 =  76.29559580341153\n"
     ]
    }
   ],
   "source": [
    "a, b, ua, ub, chi2 = least_squares(df[\"U\"], df[\"B\"], df[\"uB\"], 0, len(df.index)-1)\n",
    "\n",
    "print(\"a = \", a, \", ua = \", ua)\n",
    "print(\"b = \", b, \", ub = \", ub)\n",
    "print(\"chi2 = \", chi2)"
   ]
  },
  {
   "cell_type": "code",
   "execution_count": 6,
   "metadata": {},
   "outputs": [
    {
     "name": "stdout",
     "output_type": "stream",
     "text": [
      "Rh =  7.5165588155223326e-06 , uRh =  7.708113003752017e-08\n"
     ]
    }
   ],
   "source": [
    "Rh = d/a/I_ZASILACZ\n",
    "uRh = d/I_ZASILACZ/a/a * ua\n",
    "\n",
    "print(\"Rh = \", Rh, \", uRh = \", uRh)"
   ]
  },
  {
   "cell_type": "code",
   "execution_count": 7,
   "metadata": {},
   "outputs": [
    {
     "name": "stdout",
     "output_type": "stream",
     "text": [
      "n =  8.304594438272127e+23 , un =  8.516231157313675e+21\n",
      "mu =  0.22937855540326363 , umu =  0.0023522410574830094\n"
     ]
    }
   ],
   "source": [
    "# idk if i should take r or not, look at page nr 4\n",
    "# przyjmujemy tylko jeden rodzaj nosnikow\n",
    "\n",
    "n = 1/Rh/e\n",
    "un = 1/e/Rh/Rh * uRh\n",
    "\n",
    "print(\"n = \", n, \", un = \", un)\n",
    "\n",
    "mu = SIGMA/n/e\n",
    "umu = SIGMA/e /n/n * un\n",
    "\n",
    "print(\"mu = \", mu, \", umu = \", umu)"
   ]
  },
  {
   "cell_type": "code",
   "execution_count": 16,
   "metadata": {},
   "outputs": [
    {
     "data": {
      "image/png": "[encoded data removed]",
      "text/plain": [
       "<Figure size 864x576 with 1 Axes>"
      ]
     },
     "metadata": {
      "needs_background": "light"
     },
     "output_type": "display_data"
    }
   ],
   "source": [
    "fig, ax = plt.subplots(figsize = (12, 8)) # add scienitfic notation for x axe\n",
    "ax.scatter(df[\"U\"], df[\"B\"], label = \"Dane pomiarowe\", s=15)\n",
    "ax.plot(df[\"U\"], a*df[\"U\"]+b, label = \"Dopasowanie prostej\")\n",
    "ax.errorbar(df[\"U\"], df[\"B\"], xerr = df[\"uU\"], yerr = df[\"uB\"], fmt = \"none\", label = \"Niepewność pomiarowa\")\n",
    "ax.set_title(r\"Wykres $f(B)=U_H$ dla $I_{zas}=1mA$\")\n",
    "ax.set_xlabel(\"U [V]\")\n",
    "ax.set_ylabel(\"B [T]\")\n",
    "ax.legend(loc=2)\n",
    "\n",
    "fig.savefig(\"out/bu.jpg\", dpi = 800)\n",
    "plt.show()"
   ]
  },
  {
   "cell_type": "code",
   "execution_count": null,
   "metadata": {},
   "outputs": [],
   "source": []
  }
 ],
 "metadata": {
  "kernelspec": {
   "display_name": "Python 3.10.4 64-bit",
   "language": "python",
   "name": "python3"
  },
  "language_info": {
   "codemirror_mode": {
    "name": "ipython",
    "version": 3
   },
   "file_extension": ".py",
   "mimetype": "text/x-python",
   "name": "python",
   "nbconvert_exporter": "python",
   "pygments_lexer": "ipython3",
   "version": "3.10.4 (tags/v3.10.4:9d38120, Mar 23 2022, 23:13:41) [MSC v.1929 64 bit (AMD64)]"
  },
  "orig_nbformat": 4,
  "vscode": {
   "interpreter": {
    "hash": "5c8f1564ae92af90f4bda8b5b96bbe4d6d8181b86cfb3a298378705433cc0df3"
   }
  }
 },
 "nbformat": 4,
 "nbformat_minor": 2
}
